{
 "cells": [
  {
   "cell_type": "code",
   "execution_count": 21,
   "id": "02690840-1224-4f15-ad64-cb51cf9d10fa",
   "metadata": {},
   "outputs": [
    {
     "name": "stdin",
     "output_type": "stream",
     "text": [
      "Enter the base currency (q for quit):  usd\n"
     ]
    },
    {
     "name": "stdout",
     "output_type": "stream",
     "text": [
      "{'data': {'AUD': 1.5093202317, 'CAD': 1.3650002621, 'EUR': 0.9245901699, 'USD': 1}}\n"
     ]
    },
    {
     "ename": "KeyError",
     "evalue": "'USD'",
     "output_type": "error",
     "traceback": [
      "\u001b[1;31m---------------------------------------------------------------------------\u001b[0m",
      "\u001b[1;31mKeyError\u001b[0m                                  Traceback (most recent call last)",
      "Cell \u001b[1;32mIn[21], line 28\u001b[0m\n\u001b[0;32m     26\u001b[0m \u001b[38;5;28;01mif\u001b[39;00m \u001b[38;5;129;01mnot\u001b[39;00m data:\n\u001b[0;32m     27\u001b[0m     \u001b[38;5;28;01mcontinue\u001b[39;00m\n\u001b[1;32m---> 28\u001b[0m \u001b[38;5;28;01mdel\u001b[39;00m data[base]\n\u001b[0;32m     29\u001b[0m \u001b[38;5;28;01mfor\u001b[39;00m ticker, value \u001b[38;5;129;01min\u001b[39;00m data\u001b[38;5;241m.\u001b[39mitems():\n\u001b[0;32m     30\u001b[0m     \u001b[38;5;28mprint\u001b[39m (\u001b[38;5;124mf\u001b[39m\u001b[38;5;124m\"\u001b[39m\u001b[38;5;132;01m{\u001b[39;00mticker\u001b[38;5;132;01m}\u001b[39;00m\u001b[38;5;124m: \u001b[39m\u001b[38;5;132;01m{\u001b[39;00mvalue\u001b[38;5;132;01m}\u001b[39;00m\u001b[38;5;124m\"\u001b[39m)\n",
      "\u001b[1;31mKeyError\u001b[0m: 'USD'"
     ]
    }
   ],
   "source": [
    "import requests\n",
    "\n",
    "API_KEY = 'fca_live_EVOZp02USezHisFm10GU7ZB5iMjhWmABQrWqpnjH'\n",
    "BASE_URL = f\"https://api.freecurrencyapi.com/v1/latest?apikey={API_KEY}\"\n",
    "\n",
    "CURRENCIES = [\"USD\", \"CAD\", \"EUR\", \"AUD\"]\n",
    "\n",
    "def convert_currency(base):\n",
    "    currencies = \",\".join(CURRENCIES)\n",
    "    url = f\"{BASE_URL}&base_currency={base}&currencies={currencies}\"\n",
    "    try:\n",
    "        response = requests.get(url)\n",
    "        data = response.json()\n",
    "        print(data)\n",
    "        return data\n",
    "    except:\n",
    "        print(\"Invalid currency\")\n",
    "        return None\n",
    "\n",
    "while True:\n",
    "    base = input(\"Enter the base currency (q for quit): \").upper()\n",
    "    if base == \"Q\":\n",
    "        break\n",
    "\n",
    "    data = convert_currency(base)\n",
    "    if not data:\n",
    "        continue\n",
    "    del data[base]\n",
    "    for ticker, value in data.items():\n",
    "        print (f\"{ticker}: {value}\")\n"
   ]
  },
  {
   "cell_type": "code",
   "execution_count": null,
   "id": "71254b00-2ce0-4a8d-997b-9d0da1beae19",
   "metadata": {},
   "outputs": [],
   "source": []
  },
  {
   "cell_type": "code",
   "execution_count": null,
   "id": "7aed8d0a-9419-4ae1-b63b-f1ccd74befc5",
   "metadata": {},
   "outputs": [],
   "source": []
  }
 ],
 "metadata": {
  "kernelspec": {
   "display_name": "Python 3 (ipykernel)",
   "language": "python",
   "name": "python3"
  },
  "language_info": {
   "codemirror_mode": {
    "name": "ipython",
    "version": 3
   },
   "file_extension": ".py",
   "mimetype": "text/x-python",
   "name": "python",
   "nbconvert_exporter": "python",
   "pygments_lexer": "ipython3",
   "version": "3.11.7"
  }
 },
 "nbformat": 4,
 "nbformat_minor": 5
}
